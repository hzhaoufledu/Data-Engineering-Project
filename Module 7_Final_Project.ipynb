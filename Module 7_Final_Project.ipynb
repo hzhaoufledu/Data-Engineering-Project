{
 "cells": [
  {
   "cell_type": "markdown",
   "metadata": {},
   "source": [
    "# Module 7 Final Project --- Hanchao Zhao"
   ]
  },
  {
   "cell_type": "markdown",
   "metadata": {},
   "source": [
    "# Predict House Sale Prices\n",
    "\n",
    "**Hanchao Zhao**\n",
    "\n"
   ]
  },
  {
   "cell_type": "markdown",
   "metadata": {},
   "source": [
    "# Index\n",
    "\n",
    "- [Abstract](#Abstract)\n",
    "- [1. Introduction](#1.-Introduction)\n",
    "- [2. The Data](#2.-The-Data)\n",
    "    - [2.1 Import the Data](#2.1-Import-the-Data)\n",
    "    - [2.2 Data Exploration](#2.2-Data-Exploration)\n",
    "    - [2.3 Data Preparation](#2.3-Data-Preparation)\n",
    "    - [2.4 Correlation](#2.4-Correlation)\n",
    "- [3. Project Description](#3.-Project-Description)\n",
    "    - [3.1 Linear Regression](#3.1-Linear-Regression)\n",
    "    - [3.2 Analysis](#3.2-Analysis)\n",
    "    - [3.3 Results](#3.3-Results)\n",
    "    - [3.4 Verify Your Model Against Test Data](#3.4-Verify-Your-Model-Against-Test-Data)\n",
    "- [Conclusion](#Conclusion)\n",
    "- [References](#References)"
   ]
  },
  {
   "cell_type": "markdown",
   "metadata": {},
   "source": [
    "[Back to top](#Index)\n",
    "\n",
    "\n",
    "##  Abstract\n",
    "\n",
    "This project is to build a linear regression model to predict housing prices. The model is trained on a dataset of 100 houses and uses the numeric variables to build the linear regression. The platform that the model lives is Python, and uses the following packages:\n",
    "\n",
    "pandas\n",
    "\n",
    "numpy\n",
    "\n",
    "matplotlib.pyplot \n",
    "\n",
    "scipy. stats, norm\n",
    "\n",
    "sklearn, linear_model"
   ]
  },
  {
   "cell_type": "markdown",
   "metadata": {},
   "source": [
    "[Back to top](#Index)\n",
    "\n",
    "\n",
    "## 1. Introduction\n",
    "\n",
    "\n",
    "### Determin what variables to use\n",
    "\n",
    "The data set contains two major types of data: numerica and catagorical. This model uses only the numerical data as catagorical data does not suit linear regression.\n",
    "\n",
    "I will then calculate the correlation of each numerica variable to SalePrice to do another round of filtering.\n",
    "\n",
    "### Linear Regression Design\n",
    "\n",
    "I will then design a few linear regression solutions using different combination of variables and execute them.\n",
    "\n",
    "### Design Verification\n",
    "\n",
    "I will then use the different solutions to test against the data to find the one that has the highest score.\n",
    "\n",
    "### Final Test\n",
    "\n",
    "Finally, I will test the model against the test data.\n",
    "\n"
   ]
  },
  {
   "cell_type": "markdown",
   "metadata": {},
   "source": [
    "[Back to top](#Index)\n",
    "\n",
    "## 2. The Data"
   ]
  },
  {
   "cell_type": "markdown",
   "metadata": {},
   "source": [
    "[Back to top](#Index)\n",
    "\n",
    "### 2.1 Import the Data"
   ]
  },
  {
   "cell_type": "code",
   "execution_count": 197,
   "metadata": {},
   "outputs": [],
   "source": [
    "# import packages\n",
    "import pandas as pd\n",
    "import numpy as np\n",
    "import matplotlib.pyplot as plt\n",
    "from scipy. stats import norm\n",
    "from sklearn import linear_model\n",
    "from sklearn.metrics import mean_squared_error\n",
    "\n",
    "# import data\n",
    "data = pd.read_csv('houseSmallData.csv')\n",
    "\n",
    "# randomly select 40 records as the training data\n",
    "train = data.sample(n=40)"
   ]
  },
  {
   "cell_type": "markdown",
   "metadata": {},
   "source": [
    "[Back to top](#Index)\n",
    "\n",
    "### 2.2 Data Exploration\n"
   ]
  },
  {
   "cell_type": "code",
   "execution_count": 216,
   "metadata": {},
   "outputs": [
    {
     "data": {
      "text/plain": [
       "SalePrice        1.000000\n",
       "OverallQual      0.782167\n",
       "GrLivArea        0.774563\n",
       "FullBath         0.698591\n",
       "YearBuilt        0.627526\n",
       "TotalBsmtSF      0.620109\n",
       "Fireplaces       0.602394\n",
       "GarageArea       0.602330\n",
       "TotRmsAbvGrd     0.570477\n",
       "WoodDeckSF       0.568971\n",
       "BsmtUnfSF        0.558308\n",
       "GarageYrBlt      0.555520\n",
       "YearRemodAdd     0.555004\n",
       "MasVnrArea       0.537535\n",
       "GarageCars       0.531012\n",
       "2ndFlrSF         0.477989\n",
       "BedroomAbvGr     0.454977\n",
       "1stFlrSF         0.438813\n",
       "OpenPorchSF      0.390415\n",
       "LotArea          0.385025\n",
       "LotFrontage      0.367156\n",
       "HalfBath         0.317259\n",
       "MSSubClass       0.225542\n",
       "MoSold           0.160963\n",
       "BsmtFinSF1       0.112347\n",
       "BsmtFullBath     0.022310\n",
       "BsmtHalfBath    -0.017849\n",
       "ScreenPorch     -0.077761\n",
       "BsmtFinSF2      -0.088715\n",
       "OverallCond     -0.134787\n",
       "LowQualFinSF    -0.148455\n",
       "EnclosedPorch   -0.186788\n",
       "YrSold          -0.192213\n",
       "Id              -0.238975\n",
       "Unnamed: 0      -0.238975\n",
       "KitchenAbvGr    -0.266939\n",
       "MiscVal         -0.310244\n",
       "3SsnPorch             NaN\n",
       "PoolArea              NaN\n",
       "PoolQC                NaN\n",
       "Name: SalePrice, dtype: float64"
      ]
     },
     "execution_count": 216,
     "metadata": {},
     "output_type": "execute_result"
    }
   ],
   "source": [
    "# selecting all numeric variables in the table\n",
    "numeric = train.select_dtypes(include=[np.number])\n",
    "\n",
    "# calculate the correlation of the numeric variables to SalePrice\n",
    "corr = numeric.corr()\n",
    "\n",
    "# sort the correlation of each variable to SalePrice based on the positive correlation\n",
    "cols=corr['SalePrice'].sort_values(ascending=False)\n",
    "cols # show the full list\n",
    "\n",
    "# see the mark down cell below"
   ]
  },
  {
   "cell_type": "markdown",
   "metadata": {},
   "source": [
    "#### Filtering Result\n",
    "\n",
    "##### Here are the variables that have over 0.55 of correlation to SalePrice:\n",
    "\n",
    "OverallQual     0.835259\n",
    "\n",
    "YearBuilt       0.767860\n",
    "\n",
    "GrLivArea       0.758063\n",
    "\n",
    "FullBath        0.744325\n",
    "\n",
    "GarageArea      0.734874\n",
    "\n",
    "GarageYrBlt     0.712598\n",
    "\n",
    "TotRmsAbvGrd    0.708217\n",
    "\n",
    "GarageCars      0.700708\n",
    "\n",
    "YearRemodAdd    0.667183\n",
    "\n",
    "TotalBsmtSF     0.666248\n",
    "\n",
    "MasVnrArea      0.597977\n",
    "\n",
    "LotFrontage     0.583204\n",
    "\n",
    "1stFlrSF        0.554608\n",
    "\n",
    "# Now I am going to plot out the top five of them against the SalePrice"
   ]
  },
  {
   "cell_type": "code",
   "execution_count": 31,
   "metadata": {},
   "outputs": [
    {
     "data": {
      "text/plain": [
       "Text(0.5, 0, 'OverallQual')"
      ]
     },
     "execution_count": 31,
     "metadata": {},
     "output_type": "execute_result"
    },
    {
     "data": {
      "image/png": "[encoded data removed]",
      "text/plain": [
       "<Figure size 432x288 with 1 Axes>"
      ]
     },
     "metadata": {
      "needs_background": "light"
     },
     "output_type": "display_data"
    }
   ],
   "source": [
    "# OverallQual\n",
    "\n",
    "X = train['OverallQual']\n",
    "Y = train['SalePrice']\n",
    "\n",
    "plt.scatter(X,Y)\n",
    "plt.ylabel('SalePrice')\n",
    "plt.xlabel('OverallQual')"
   ]
  },
  {
   "cell_type": "code",
   "execution_count": 32,
   "metadata": {},
   "outputs": [
    {
     "data": {
      "text/plain": [
       "Text(0.5, 0, 'YearBuilt')"
      ]
     },
     "execution_count": 32,
     "metadata": {},
     "output_type": "execute_result"
    },
    {
     "data": {
      "image/png": "[encoded data removed]",
      "text/plain": [
       "<Figure size 432x288 with 1 Axes>"
      ]
     },
     "metadata": {
      "needs_background": "light"
     },
     "output_type": "display_data"
    }
   ],
   "source": [
    "# YearBuilt\n",
    "\n",
    "X = train['YearBuilt']\n",
    "Y = train['SalePrice']\n",
    "\n",
    "plt.scatter(X,Y)\n",
    "plt.ylabel('SalePrice')\n",
    "plt.xlabel('YearBuilt')"
   ]
  },
  {
   "cell_type": "code",
   "execution_count": 33,
   "metadata": {},
   "outputs": [
    {
     "data": {
      "text/plain": [
       "Text(0.5, 0, 'GrlivArea')"
      ]
     },
     "execution_count": 33,
     "metadata": {},
     "output_type": "execute_result"
    },
    {
     "data": {
      "image/png": "[encoded data removed]",
      "text/plain": [
       "<Figure size 432x288 with 1 Axes>"
      ]
     },
     "metadata": {
      "needs_background": "light"
     },
     "output_type": "display_data"
    }
   ],
   "source": [
    "# GrLivArea\n",
    "\n",
    "X = train['GrLivArea']\n",
    "Y = train['SalePrice']\n",
    "\n",
    "plt.scatter(X,Y)\n",
    "plt.ylabel('SalePrice')\n",
    "plt.xlabel('GrlivArea')"
   ]
  },
  {
   "cell_type": "code",
   "execution_count": 34,
   "metadata": {},
   "outputs": [
    {
     "data": {
      "text/plain": [
       "Text(0.5, 0, 'FullBath')"
      ]
     },
     "execution_count": 34,
     "metadata": {},
     "output_type": "execute_result"
    },
    {
     "data": {
      "image/png": "[encoded data removed]",
      "text/plain": [
       "<Figure size 432x288 with 1 Axes>"
      ]
     },
     "metadata": {
      "needs_background": "light"
     },
     "output_type": "display_data"
    }
   ],
   "source": [
    "# FullBath\n",
    "\n",
    "X = train['FullBath']\n",
    "Y = train['SalePrice']\n",
    "\n",
    "plt.scatter(X,Y)\n",
    "plt.ylabel('SalePrice')\n",
    "plt.xlabel('FullBath')"
   ]
  },
  {
   "cell_type": "code",
   "execution_count": 35,
   "metadata": {},
   "outputs": [
    {
     "data": {
      "text/plain": [
       "Text(0.5, 0, 'GarageArea')"
      ]
     },
     "execution_count": 35,
     "metadata": {},
     "output_type": "execute_result"
    },
    {
     "data": {
      "image/png": "[encoded data removed]",
      "text/plain": [
       "<Figure size 432x288 with 1 Axes>"
      ]
     },
     "metadata": {
      "needs_background": "light"
     },
     "output_type": "display_data"
    }
   ],
   "source": [
    "# GarageArea\n",
    "\n",
    "X = train['GarageArea']\n",
    "Y = train['SalePrice']\n",
    "\n",
    "plt.scatter(X,Y)\n",
    "plt.ylabel('SalePrice')\n",
    "plt.xlabel('GarageArea')"
   ]
  },
  {
   "cell_type": "markdown",
   "metadata": {},
   "source": [
    "[Back to top](#Index)\n",
    "\n",
    "### 2.3 Data Preparation\n",
    "\n",
    "Data cleaning. Drop the columns with NaN correlation. Fill all NaN entries with mean."
   ]
  },
  {
   "cell_type": "markdown",
   "metadata": {},
   "source": [
    "[Back to top](#Index)\n",
    "\n",
    "### 2.4 Correlation\n",
    "\n",
    "As we have seen from above, I have filtered out the variables that has over 0.55 of correlation against the SalePrice. However, this does not mean that I am going to use all of these varaibles in my final model. Instead, I am going to build three separate trail-models to find the one that works the best:\n",
    "\n",
    "1. Using all of these selected variables\n",
    "2. Using only the top 5 variables that have the highest correlation\n",
    "3. Using all variables that have over 0.60 of correlation"
   ]
  },
  {
   "cell_type": "markdown",
   "metadata": {},
   "source": [
    "\n",
    "[Back to top](#Index)\n",
    "\n",
    "## 3. Project Description\n",
    "\n",
    "### Model Training Data\n",
    "\n",
    "Instead of just using 20 rows of data, I am going to randomly select 20 rows of data 100 times and concat them into a training data of 2000 rows.\n",
    "\n",
    "### Multiple Models Competition\n",
    "\n",
    "I am going to build four separate trail-models to find the one that works the best:\n",
    "\n",
    "1. Using all of these selected variables (Control)\n",
    "2. Using only the top 5 variables that have the highest correlation\n",
    "3. Using all variables that have over 0.60 of correlation\n",
    "4. Using all variables that have over 0.55 of correlation"
   ]
  },
  {
   "cell_type": "markdown",
   "metadata": {},
   "source": [
    "[Back to top](#Index)\n",
    "\n",
    "### 3.1 Linear Regression\n",
    "\n",
    "Give a description (500 or less words) of the algorithm you use in this project. Include mathematical and computational details about linear regression.\n",
    "\n",
    "Include details about the theory (origin of the method, derivation, and formulas) and the necessary steps to implement the algorithm using Python.\n",
    "\n"
   ]
  },
  {
   "cell_type": "code",
   "execution_count": 217,
   "metadata": {},
   "outputs": [
    {
     "name": "stderr",
     "output_type": "stream",
     "text": [
      "C:\\Users\\hanch\\AppData\\Local\\Temp\\ipykernel_17768\\4045695009.py:17: FutureWarning: Dropping of nuisance columns in DataFrame reductions (with 'numeric_only=None') is deprecated; in a future version this will raise TypeError.  Select only valid columns before calling the reduction.\n",
      "  training=training.fillna(training.mean()) # replace missing values with mean\n"
     ]
    },
    {
     "data": {
      "text/plain": [
       "(2000, 79)"
      ]
     },
     "execution_count": 217,
     "metadata": {},
     "output_type": "execute_result"
    }
   ],
   "source": [
    "# generate model training data\n",
    "samples = []\n",
    "for i in range(100):\n",
    "    # Randomly select 20 rows\n",
    "    random_sample = data.sample(n=20)\n",
    "    # Append the sample to the list\n",
    "    samples.append(random_sample)\n",
    "\n",
    "# Concatenate the samples into a single DataFrame\n",
    "training = pd.concat(samples)\n",
    "\n",
    "\n",
    "# Clean the data\n",
    "training.drop('PoolQC', axis=1, inplace=True)\n",
    "training.drop('PoolArea', axis=1, inplace=True)\n",
    "training.drop('3SsnPorch', axis=1, inplace=True)\n",
    "training=training.fillna(training.mean()) # replace missing values with mean\n",
    "\n",
    "\n",
    "# Check the result\n",
    "training.shape"
   ]
  },
  {
   "cell_type": "code",
   "execution_count": 218,
   "metadata": {},
   "outputs": [],
   "source": [
    "# Variables selection\n",
    "\n",
    "# selecting all numeric variables in the table\n",
    "numeric = training.select_dtypes(include=[np.number])\n",
    "\n",
    "# calculate the correlation of the numeric variables to SalePrice\n",
    "corr = numeric.corr()\n",
    "\n",
    "# sort the correlation of each variable to SalePrice based on the positive correlation\n",
    "cols=corr['SalePrice'].sort_values(ascending=False)\n",
    "\n",
    "# Three groups of variables\n",
    "moreThan55 = corr['SalePrice'].sort_values(ascending=False)[corr['SalePrice']>0.55].index\n",
    "moreThan60 = corr['SalePrice'].sort_values(ascending=False)[corr['SalePrice']>0.60].index\n",
    "top5 = corr['SalePrice'].sort_values(ascending=False)[0:6].index\n",
    "\n",
    "# And a control of using all the variables\n",
    "allIn = corr['SalePrice'].sort_values(ascending = False).index"
   ]
  },
  {
   "cell_type": "markdown",
   "metadata": {},
   "source": [
    "### Reason to select 20 random rows 100 times\n",
    "\n",
    "This is based on Central Limit Theorem. The central limit theorem states that if you have a population with mean μ and standard deviation σ and take sufficiently large random samples from the population with replacementtext annotation indicator, then the distribution of the sample means will be approximately normally distributed. This will hold true regardless of whether the source population is normal or skewed, provided the sample size is sufficiently large (usually n > 30). If the population is normal, then the theorem holds true even for samples smaller than 30. In fact, this also holds true even if the population is binomial, provided that min(np, n(1-p))> 5, where n is the sample size and p is the probability of success in the population. This means that we can use the normal probability model to quantify uncertainty when making inferences about a population mean based on the sample mean.\n",
    "\n",
    "\n",
    "\n",
    "### Multiple Linear Regression\n",
    "\n",
    "Multiple linear regression attempts to model the relationship between two or more explanatory variables and a response variable by fitting a linear equation to observed data. Every value of the independent variable x is associated with a value of the dependent variable y. The population regression line for p explanatory variables x1, x2, ... , xp is defined to be y = 0 + 1x1 + 2x2 + ... + pxp. This line describes how the mean response y changes with the explanatory variables. The observed values for y vary about their means y and are assumed to have the same standard deviation . The fitted values b0, b1, ..., bp estimate the parameters 0, 1, ..., p of the population regression line.\n",
    "Since the observed values for y vary about their means y, the multiple regression model includes a term for this variation. In words, the model is expressed as DATA = FIT + RESIDUAL, where the \"FIT\" term represents the expression 0 + 1x1 + 2x2 + ... pxp. The \"RESIDUAL\" term represents the deviations of the observed values y from their means y, which are normally distributed with mean 0 and variance . The notation for the model deviations is .\n",
    "\n",
    "Formally, the model for multiple linear regression, given n observations, is\n",
    "yi = 0 + 1xi1 + 2xi2 + ... pxip + i for i = 1,2, ... n.\n",
    "\n",
    "In the least-squares model, the best-fitting line for the observed data is calculated by minimizing the sum of the squares of the vertical deviations from each data point to the line (if a point lies on the fitted line exactly, then its vertical deviation is 0). Because the deviations are first squared, then summed, there are no cancellations between positive and negative values. The least-squares estimates b0, b1, ... bp are usually computed by statistical software.\n",
    "\n",
    "The values fit by the equation b0 + b1xi1 + ... + bpxip are denoted i, and the residuals ei are equal to yi - i, the difference between the observed and fitted values. The sum of the residuals is equal to zero.\n",
    "\n",
    "The variance ² may be estimated by s² = , also known as the mean-squared error (or MSE).\n",
    "The estimate of the standard error s is the square root of the MSE.\n",
    "\n",
    "In this analysis, since we are using multiple columns to predict SalePrice, so we are treating those columns as independent variables, and SalePrice as the dependent variable."
   ]
  },
  {
   "cell_type": "code",
   "execution_count": 219,
   "metadata": {},
   "outputs": [
    {
     "name": "stdout",
     "output_type": "stream",
     "text": [
      "Model Score of Using Top 5 Variables: 0.8371712148277015\n",
      "Coefficients: [22251.43206693    46.48139894    57.80537938 -8007.07192538\n",
      "   593.01021796]\n"
     ]
    },
    {
     "data": {
      "text/plain": [
       "<matplotlib.collections.PathCollection at 0x1eb8269d9a0>"
      ]
     },
     "execution_count": 219,
     "metadata": {},
     "output_type": "execute_result"
    },
    {
     "data": {
      "image/png": "[encoded data removed]",
      "text/plain": [
       "<Figure size 432x288 with 1 Axes>"
      ]
     },
     "metadata": {
      "needs_background": "light"
     },
     "output_type": "display_data"
    }
   ],
   "source": [
    "# top5 model linear regression\n",
    "\n",
    "X = training[top5]\n",
    "Y = training['SalePrice']\n",
    "X = X.drop(['SalePrice'], axis=1)\n",
    "\n",
    "from sklearn import linear_model\n",
    "lr = linear_model.LinearRegression()\n",
    "T5model = lr.fit(X,Y)\n",
    "T5predictions = T5model.predict(X)\n",
    "\n",
    "score = T5model.score(X,Y)\n",
    "\n",
    "# Get the coefficients of the linear regression model\n",
    "coefficients = T5model.coef_\n",
    "\n",
    "\n",
    "print(\"Model Score of Using Top 5 Variables:\", model.score(X,Y))\n",
    "print(\"Coefficients:\", coefficients)\n",
    "\n",
    "plt.scatter(predictions, Y)"
   ]
  },
  {
   "cell_type": "code",
   "execution_count": 220,
   "metadata": {},
   "outputs": [
    {
     "name": "stdout",
     "output_type": "stream",
     "text": [
      "Model Score of using those who have over 0.55 of correlation: 0.8569469576720058\n",
      "Coefficients: [ 1.98137823e+04  5.08402102e+01  3.51132205e+01 -1.22767120e+03\n",
      "  5.47105042e+02  2.11593768e+01 -9.44088364e+01 -7.99252142e+03\n",
      "  1.36088881e+01 -1.71294600e+03  2.26651453e+02]\n"
     ]
    },
    {
     "data": {
      "text/plain": [
       "<matplotlib.collections.PathCollection at 0x1eb81630dc0>"
      ]
     },
     "execution_count": 220,
     "metadata": {},
     "output_type": "execute_result"
    },
    {
     "data": {
      "image/png": "[encoded data removed]",
      "text/plain": [
       "<Figure size 432x288 with 1 Axes>"
      ]
     },
     "metadata": {
      "needs_background": "light"
     },
     "output_type": "display_data"
    }
   ],
   "source": [
    "# moreThan55 model linear regression\n",
    "X = training[moreThan55]\n",
    "Y = training['SalePrice']\n",
    "X = X.drop(['SalePrice'], axis=1)\n",
    "\n",
    "from sklearn import linear_model\n",
    "lr = linear_model.LinearRegression()\n",
    "C55model = lr.fit(X,Y)\n",
    "C55predictions = C55model.predict(X)\n",
    "\n",
    "score55 = C55model.score(X,Y)\n",
    "\n",
    "# Get the coefficients of the linear regression model\n",
    "coefficients = C55model.coef_\n",
    "\n",
    "\n",
    "print(\"Model Score of using those who have over 0.55 of correlation:\", C55model.score(X,Y))\n",
    "print(\"Coefficients:\", coefficients)\n",
    "\n",
    "plt.scatter(predictions, Y)"
   ]
  },
  {
   "cell_type": "code",
   "execution_count": 221,
   "metadata": {},
   "outputs": [
    {
     "name": "stdout",
     "output_type": "stream",
     "text": [
      "Model Score of those who have more than 0.60 of correlation: 0.852164207704033\n",
      "Coefficients: [19453.99231423    42.09850994    36.08869113  -187.55276303\n",
      "   529.42093607    27.38933606]\n"
     ]
    },
    {
     "data": {
      "text/plain": [
       "<matplotlib.collections.PathCollection at 0x1eb82684df0>"
      ]
     },
     "execution_count": 221,
     "metadata": {},
     "output_type": "execute_result"
    },
    {
     "data": {
      "image/png": "[encoded data removed]",
      "text/plain": [
       "<Figure size 432x288 with 1 Axes>"
      ]
     },
     "metadata": {
      "needs_background": "light"
     },
     "output_type": "display_data"
    }
   ],
   "source": [
    "# moreThan60 model linear regression\n",
    "X = training[moreThan60]\n",
    "Y = training['SalePrice']\n",
    "X = X.drop(['SalePrice'], axis=1)\n",
    "\n",
    "from sklearn import linear_model\n",
    "lr = linear_model.LinearRegression()\n",
    "C60model = lr.fit(X,Y)\n",
    "C60predictions = C60model.predict(X)\n",
    "\n",
    "score60 = C60model.score(X,Y)\n",
    "\n",
    "# Get the coefficients of the linear regression model\n",
    "coefficients = C60model.coef_\n",
    "\n",
    "\n",
    "print(\"Model Score of those who have more than 0.60 of correlation:\", C60model.score(X,Y))\n",
    "print(\"Coefficients:\", coefficients)\n",
    "\n",
    "plt.scatter(predictions, Y)"
   ]
  },
  {
   "cell_type": "code",
   "execution_count": 222,
   "metadata": {},
   "outputs": [
    {
     "name": "stdout",
     "output_type": "stream",
     "text": [
      "Model Score of all variables: 0.9083293391752174\n",
      "Coefficients: [ 1.47720528e+04  4.78449174e+01  3.83934688e+01 -7.79800693e+03\n",
      "  5.82784512e+02  2.26695108e+00 -2.89911210e+01  7.52422618e+03\n",
      "  1.71318660e+01  2.92760940e+03  2.28296991e+02  3.91991180e+00\n",
      "  1.02216389e+04  1.56093024e+00  6.03680195e+00  4.28984579e+00\n",
      "  1.71191312e+03  2.82910524e+00  2.97966723e+01 -4.11411972e+01\n",
      "  4.65251257e+02 -5.15168673e+00 -1.65407638e+04  6.48090905e+03\n",
      " -1.26764383e+02 -1.64880466e+02  3.07863442e+03  4.58953255e+00\n",
      " -4.36662136e+01  8.65193824e+03  3.96351598e+01  3.35588676e+00\n",
      "  3.35588677e+00  6.92099964e+02 -5.53005126e+01 -1.62731945e+03]\n"
     ]
    },
    {
     "data": {
      "text/plain": [
       "<matplotlib.collections.PathCollection at 0x1eb826b5e50>"
      ]
     },
     "execution_count": 222,
     "metadata": {},
     "output_type": "execute_result"
    },
    {
     "data": {
      "image/png": "[encoded data removed]",
      "text/plain": [
       "<Figure size 432x288 with 1 Axes>"
      ]
     },
     "metadata": {
      "needs_background": "light"
     },
     "output_type": "display_data"
    }
   ],
   "source": [
    "# allIn model linear regression\n",
    "X = training[allIn]\n",
    "Y = training['SalePrice']\n",
    "X = X.drop(['SalePrice'], axis=1)\n",
    "\n",
    "from sklearn import linear_model\n",
    "lr = linear_model.LinearRegression()\n",
    "allmodel = lr.fit(X,Y)\n",
    "allpredictions = allmodel.predict(X)\n",
    "\n",
    "scoreControl = allmodel.score(X,Y)\n",
    "\n",
    "# Get the coefficients of the linear regression model\n",
    "coefficients = allmodel.coef_\n",
    "\n",
    "\n",
    "print(\"Model Score of all variables:\", allmodel.score(X,Y))\n",
    "print(\"Coefficients:\", coefficients)\n",
    "\n",
    "plt.scatter(predictions, Y)"
   ]
  },
  {
   "cell_type": "markdown",
   "metadata": {},
   "source": [
    "[Back to top](#Index)\n",
    "\n",
    "### 3.2 Analysis \n",
    "\n",
    "As I have demonstrated in the step above, I have built linear regressions based on 4 groups of variables. And the score against the training data of each of these models is shown below:\n",
    "\n",
    "- Model Score of Using Top 5 Variables:                         0.832\n",
    "\n",
    "- Model Score of using those who have over 0.55 of correlation: 0.858\n",
    "\n",
    "- Model Score of those who have more than 0.60 of correlation:  0.853\n",
    "\n",
    "- Model Score of all variables:                                 0.903\n"
   ]
  },
  {
   "cell_type": "markdown",
   "metadata": {},
   "source": [
    "[Back to top](#Index)\n",
    "\n",
    "### 3.3 Results\n",
    "\n",
    "Based on the score test, each model has the follow scores\n",
    "\n",
    "- Model Score of Using Top 5 Variables:                         0.832\n",
    "\n",
    "- Model Score of using those who have over 0.55 of correlation: 0.858\n",
    "\n",
    "- Model Score of those who have more than 0.60 of correlation:  0.853\n",
    "\n",
    "- Model Score of all variables:                                 0.903\n",
    "\n",
    "\n",
    "allIn model has the highest score. And as a matter of fact, the more variable the model used, the higher the score the model achieved.\n",
    "\n",
    "The reason of this phenomenon is that, I have already selected the datapoints that have a meanful correlation with SalePrice. As a result, the more of them I use, the more accurate the model."
   ]
  },
  {
   "cell_type": "markdown",
   "metadata": {},
   "source": [
    "[Back to top](#Index)\n",
    "\n",
    "### 3.4 Verify Your Model Against Test Data\n",
    "\n",
    "Now that you have a prediction model, it's time to test your model against test data to confirm its accuracy on new data. The test data is located in the file `jtest.csv` \n",
    "\n",
    "What do you observe? Are these results in accordance with what you found earlier? How can you justify this?"
   ]
  },
  {
   "cell_type": "code",
   "execution_count": 223,
   "metadata": {
    "scrolled": true
   },
   "outputs": [
    {
     "name": "stderr",
     "output_type": "stream",
     "text": [
      "C:\\Users\\hanch\\AppData\\Local\\Temp\\ipykernel_17768\\731984576.py:11: FutureWarning: Dropping of nuisance columns in DataFrame reductions (with 'numeric_only=None') is deprecated; in a future version this will raise TypeError.  Select only valid columns before calling the reduction.\n",
      "  jtest=jtest.fillna(training.mean()) # replace missing values with mean\n"
     ]
    },
    {
     "data": {
      "text/html": [
       "<div>\n",
       "<style scoped>\n",
       "    .dataframe tbody tr th:only-of-type {\n",
       "        vertical-align: middle;\n",
       "    }\n",
       "\n",
       "    .dataframe tbody tr th {\n",
       "        vertical-align: top;\n",
       "    }\n",
       "\n",
       "    .dataframe thead th {\n",
       "        text-align: right;\n",
       "    }\n",
       "</style>\n",
       "<table border=\"1\" class=\"dataframe\">\n",
       "  <thead>\n",
       "    <tr style=\"text-align: right;\">\n",
       "      <th></th>\n",
       "      <th>Unnamed: 0</th>\n",
       "      <th>Id</th>\n",
       "      <th>MSSubClass</th>\n",
       "      <th>MSZoning</th>\n",
       "      <th>LotFrontage</th>\n",
       "      <th>LotArea</th>\n",
       "      <th>Street</th>\n",
       "      <th>Alley</th>\n",
       "      <th>LotShape</th>\n",
       "      <th>LandContour</th>\n",
       "      <th>...</th>\n",
       "      <th>EnclosedPorch</th>\n",
       "      <th>ScreenPorch</th>\n",
       "      <th>Fence</th>\n",
       "      <th>MiscFeature</th>\n",
       "      <th>MiscVal</th>\n",
       "      <th>MoSold</th>\n",
       "      <th>YrSold</th>\n",
       "      <th>SaleType</th>\n",
       "      <th>SaleCondition</th>\n",
       "      <th>SalePrice</th>\n",
       "    </tr>\n",
       "  </thead>\n",
       "  <tbody>\n",
       "    <tr>\n",
       "      <th>0</th>\n",
       "      <td>100</td>\n",
       "      <td>101</td>\n",
       "      <td>20</td>\n",
       "      <td>RL</td>\n",
       "      <td>72.032147</td>\n",
       "      <td>10603</td>\n",
       "      <td>Pave</td>\n",
       "      <td>NaN</td>\n",
       "      <td>IR1</td>\n",
       "      <td>Lvl</td>\n",
       "      <td>...</td>\n",
       "      <td>0</td>\n",
       "      <td>0</td>\n",
       "      <td>NaN</td>\n",
       "      <td>NaN</td>\n",
       "      <td>0</td>\n",
       "      <td>2</td>\n",
       "      <td>2010</td>\n",
       "      <td>WD</td>\n",
       "      <td>Normal</td>\n",
       "      <td>205000</td>\n",
       "    </tr>\n",
       "    <tr>\n",
       "      <th>1</th>\n",
       "      <td>101</td>\n",
       "      <td>102</td>\n",
       "      <td>60</td>\n",
       "      <td>RL</td>\n",
       "      <td>77.000000</td>\n",
       "      <td>9206</td>\n",
       "      <td>Pave</td>\n",
       "      <td>NaN</td>\n",
       "      <td>Reg</td>\n",
       "      <td>Lvl</td>\n",
       "      <td>...</td>\n",
       "      <td>0</td>\n",
       "      <td>0</td>\n",
       "      <td>NaN</td>\n",
       "      <td>NaN</td>\n",
       "      <td>0</td>\n",
       "      <td>6</td>\n",
       "      <td>2010</td>\n",
       "      <td>WD</td>\n",
       "      <td>Normal</td>\n",
       "      <td>178000</td>\n",
       "    </tr>\n",
       "    <tr>\n",
       "      <th>2</th>\n",
       "      <td>102</td>\n",
       "      <td>103</td>\n",
       "      <td>90</td>\n",
       "      <td>RL</td>\n",
       "      <td>64.000000</td>\n",
       "      <td>7018</td>\n",
       "      <td>Pave</td>\n",
       "      <td>NaN</td>\n",
       "      <td>Reg</td>\n",
       "      <td>Bnk</td>\n",
       "      <td>...</td>\n",
       "      <td>0</td>\n",
       "      <td>0</td>\n",
       "      <td>NaN</td>\n",
       "      <td>NaN</td>\n",
       "      <td>0</td>\n",
       "      <td>6</td>\n",
       "      <td>2009</td>\n",
       "      <td>WD</td>\n",
       "      <td>Alloca</td>\n",
       "      <td>118964</td>\n",
       "    </tr>\n",
       "    <tr>\n",
       "      <th>3</th>\n",
       "      <td>103</td>\n",
       "      <td>104</td>\n",
       "      <td>20</td>\n",
       "      <td>RL</td>\n",
       "      <td>94.000000</td>\n",
       "      <td>10402</td>\n",
       "      <td>Pave</td>\n",
       "      <td>NaN</td>\n",
       "      <td>IR1</td>\n",
       "      <td>Lvl</td>\n",
       "      <td>...</td>\n",
       "      <td>0</td>\n",
       "      <td>0</td>\n",
       "      <td>NaN</td>\n",
       "      <td>NaN</td>\n",
       "      <td>0</td>\n",
       "      <td>5</td>\n",
       "      <td>2010</td>\n",
       "      <td>WD</td>\n",
       "      <td>Normal</td>\n",
       "      <td>198900</td>\n",
       "    </tr>\n",
       "    <tr>\n",
       "      <th>4</th>\n",
       "      <td>104</td>\n",
       "      <td>105</td>\n",
       "      <td>50</td>\n",
       "      <td>RM</td>\n",
       "      <td>72.032147</td>\n",
       "      <td>7758</td>\n",
       "      <td>Pave</td>\n",
       "      <td>NaN</td>\n",
       "      <td>Reg</td>\n",
       "      <td>Lvl</td>\n",
       "      <td>...</td>\n",
       "      <td>0</td>\n",
       "      <td>184</td>\n",
       "      <td>NaN</td>\n",
       "      <td>NaN</td>\n",
       "      <td>0</td>\n",
       "      <td>6</td>\n",
       "      <td>2007</td>\n",
       "      <td>WD</td>\n",
       "      <td>Normal</td>\n",
       "      <td>169500</td>\n",
       "    </tr>\n",
       "  </tbody>\n",
       "</table>\n",
       "<p>5 rows × 79 columns</p>\n",
       "</div>"
      ],
      "text/plain": [
       "   Unnamed: 0   Id  MSSubClass MSZoning  LotFrontage  LotArea Street Alley  \\\n",
       "0         100  101          20       RL    72.032147    10603   Pave   NaN   \n",
       "1         101  102          60       RL    77.000000     9206   Pave   NaN   \n",
       "2         102  103          90       RL    64.000000     7018   Pave   NaN   \n",
       "3         103  104          20       RL    94.000000    10402   Pave   NaN   \n",
       "4         104  105          50       RM    72.032147     7758   Pave   NaN   \n",
       "\n",
       "  LotShape LandContour  ... EnclosedPorch ScreenPorch Fence MiscFeature  \\\n",
       "0      IR1         Lvl  ...             0           0   NaN         NaN   \n",
       "1      Reg         Lvl  ...             0           0   NaN         NaN   \n",
       "2      Reg         Bnk  ...             0           0   NaN         NaN   \n",
       "3      IR1         Lvl  ...             0           0   NaN         NaN   \n",
       "4      Reg         Lvl  ...             0         184   NaN         NaN   \n",
       "\n",
       "  MiscVal MoSold YrSold SaleType  SaleCondition  SalePrice  \n",
       "0       0      2   2010       WD         Normal     205000  \n",
       "1       0      6   2010       WD         Normal     178000  \n",
       "2       0      6   2009       WD         Alloca     118964  \n",
       "3       0      5   2010       WD         Normal     198900  \n",
       "4       0      6   2007       WD         Normal     169500  \n",
       "\n",
       "[5 rows x 79 columns]"
      ]
     },
     "execution_count": 223,
     "metadata": {},
     "output_type": "execute_result"
    }
   ],
   "source": [
    "# import the jtest dataset\n",
    "\n",
    "jtest = pd.read_csv('jtest.csv')\n",
    "\n",
    "\n",
    "jtest.drop('PoolQC', axis=1, inplace=True)\n",
    "jtest.drop('PoolArea', axis=1, inplace=True)\n",
    "jtest.drop('3SsnPorch', axis=1, inplace=True)\n",
    "\n",
    "\n",
    "jtest=jtest.fillna(training.mean()) # replace missing values with mean\n",
    "\n",
    "jtest.head()\n",
    "\n"
   ]
  },
  {
   "cell_type": "code",
   "execution_count": 224,
   "metadata": {},
   "outputs": [],
   "source": [
    "# redefine the allIn model\n",
    "\n",
    "X = training[allIn]\n",
    "Y = training['SalePrice']\n",
    "X = X.drop(['SalePrice'], axis=1)\n",
    "\n",
    "from sklearn import linear_model\n",
    "lr = linear_model.LinearRegression()\n",
    "allmodel = lr.fit(X,Y)\n",
    "allpredictions = allmodel.predict(X)"
   ]
  },
  {
   "cell_type": "code",
   "execution_count": 225,
   "metadata": {},
   "outputs": [
    {
     "data": {
      "text/plain": [
       "Index(['SalePrice', 'OverallQual', 'GrLivArea', 'GarageArea', 'GarageCars',\n",
       "       'TotRmsAbvGrd', 'TotalBsmtSF', '1stFlrSF', 'Fireplaces', 'BsmtFinSF1',\n",
       "       'YearRemodAdd', 'LotArea', 'OpenPorchSF', 'FullBath', 'ScreenPorch',\n",
       "       '2ndFlrSF', 'YearBuilt', 'BsmtFullBath', 'GarageYrBlt', 'MasVnrArea',\n",
       "       'LotFrontage', 'HalfBath', 'WoodDeckSF', 'Id', 'Unnamed: 0', 'YrSold',\n",
       "       'LowQualFinSF', 'BedroomAbvGr', 'BsmtFinSF2', 'MoSold', 'BsmtUnfSF',\n",
       "       'BsmtHalfBath', 'OverallCond', 'MSSubClass', 'EnclosedPorch', 'MiscVal',\n",
       "       'KitchenAbvGr'],\n",
       "      dtype='object')"
      ]
     },
     "execution_count": 225,
     "metadata": {},
     "output_type": "execute_result"
    }
   ],
   "source": [
    "# jtest dataset prep\n",
    "\n",
    "# selecting all numeric variables in the table\n",
    "jnumeric = jtest.select_dtypes(include=[np.number])\n",
    "\n",
    "# calculate the correlation of the numeric variables to SalePrice\n",
    "jcorr = jnumeric.corr()\n",
    "\n",
    "# sort the correlation of each variable to SalePrice based on the positive correlation\n",
    "jcols=jcorr['SalePrice'].sort_values(ascending=False)\n",
    "\n",
    "# \n",
    "jallIn = jcorr['SalePrice'].sort_values(ascending = False).index\n",
    "\n",
    "jallIn\n"
   ]
  },
  {
   "cell_type": "code",
   "execution_count": 226,
   "metadata": {},
   "outputs": [],
   "source": [
    "# Test the model"
   ]
  },
  {
   "cell_type": "code",
   "execution_count": 227,
   "metadata": {},
   "outputs": [
    {
     "name": "stdout",
     "output_type": "stream",
     "text": [
      "Model Score of all variables: 0.9325483427711049\n"
     ]
    }
   ],
   "source": [
    "X = jtest[jallIn]\n",
    "Y = jtest['SalePrice']\n",
    "X = X.drop(['SalePrice'], axis=1)\n",
    "\n",
    "from sklearn import linear_model\n",
    "lr = linear_model.LinearRegression()\n",
    "jallmodel = lr.fit(X,Y)\n",
    "jallpredictions = jallmodel.predict(X)\n",
    "\n",
    "jscore = jallmodel.score(X,Y)\n",
    "\n",
    "# Get the coefficients of the linear regression model\n",
    "coefficients = allmodel.coef_\n",
    "\n",
    "\n",
    "print(\"Model Score of all variables:\", jallmodel.score(X,Y))"
   ]
  },
  {
   "cell_type": "code",
   "execution_count": 228,
   "metadata": {},
   "outputs": [],
   "source": [
    "# The test result shows that the prediction model has a score of 0.933"
   ]
  },
  {
   "cell_type": "markdown",
   "metadata": {},
   "source": [
    "[Back to top](#Index)\n",
    "\n",
    "## Conclusion\n",
    "\n",
    "1. Data cleaning is critical. All of my prediction model candidates have the score of over 0.80, the highest of which has over 0.90. This is because I have cleaned the data thoroughly prior to the computation.\n",
    "2. Sample size and randomlization matter. The total sample size I used in each of the computation was 2000, randomly selected. Which means my sample's representation was very close to the population.\n",
    "3. Data quality also matters. The data provided for this exercise has good quality without much missing or NULL data.\n",
    "\n"
   ]
  },
  {
   "cell_type": "markdown",
   "metadata": {},
   "source": [
    "\n",
    "[Back to top](#Index\n",
    ")\n",
    "## References\n",
    "\n",
    "\n",
    "- \"Central Limit Theorem\". Boston University Library. https://sphweb.bumc.bu.edu/otlt/mph-modules/bs/bs704_probability/BS704_Probability12.html. Accessed May 13, 2024.\n",
    "\n",
    "- \"Multiple Linear Regression\". Yale University Library. http://www.stat.yale.edu/Courses/1997-98/101/linmult.htm. Accessed May 13, 2024.\n"
   ]
  },
  {
   "cell_type": "code",
   "execution_count": null,
   "metadata": {},
   "outputs": [],
   "source": []
  }
 ],
 "metadata": {
  "kernelspec": {
   "display_name": "Python 3 (ipykernel)",
   "language": "python",
   "name": "python3"
  },
  "language_info": {
   "codemirror_mode": {
    "name": "ipython",
    "version": 3
   },
   "file_extension": ".py",
   "mimetype": "text/x-python",
   "name": "python",
   "nbconvert_exporter": "python",
   "pygments_lexer": "ipython3",
   "version": "3.9.12"
  }
 },
 "nbformat": 4,
 "nbformat_minor": 4
}
